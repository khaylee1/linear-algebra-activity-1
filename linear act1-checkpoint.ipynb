{
 "cells": [
  {
   "cell_type": "code",
   "execution_count": 2,
   "metadata": {},
   "outputs": [
    {
     "name": "stdout",
     "output_type": "stream",
     "text": [
      " charmander at level: 15 \n",
      " pidgey at level: 11 \n",
      " sandshrew at level: 18 \n",
      " ratata at level: 5 \n",
      " abra at level: 14\n"
     ]
    }
   ],
   "source": [
    "party=['charmander','pidgey','sandshrew','ratata','abra']\n",
    "level=[15,11,18,5,14]\n",
    "print('',party[0], \"at level:\",level[0],'\\n', party[1], 'at level:',level[1], '\\n', party[2], 'at level:', level[2],'\\n',party[3], 'at level:', level[3], '\\n', party[4], 'at level:', level[4],)\n",
    "\n",
    "##I jsut manualy sort the items and compress them in one line for the additional points."
   ]
  },
  {
   "cell_type": "code",
   "execution_count": 1,
   "metadata": {},
   "outputs": [
    {
     "name": "stdout",
     "output_type": "stream",
     "text": [
      "[(Dialga level:2), (Regigigas level:3), (Onix level:10)]\n"
     ]
    }
   ],
   "source": [
    "class Reserves:\n",
    "    def __init__(self, pokemon, level):          #this block of code is responsible \n",
    "        self.pokemon = pokemon                   #for the criteria in how I want to\n",
    "        self.level = level                       #sort the items in the list \n",
    "\n",
    "\n",
    "    def __repr__(self):\n",
    "        return '({} level:{})'.format(self.pokemon, self.level)      #this line is responsible for the format \n",
    "                                                                     # of the sorted display \n",
    "\n",
    "r1 = Reserves('Onix', 10)\n",
    "r2 = Reserves('Slowpoke', 18)\n",
    "r3 = Reserves('Dialga', 2)\n",
    "r4 = Reserves('Magikarp', 32)\n",
    "r5 = Reserves('Feebas', 22)\n",
    "r6 = Reserves('Swablu', 19)\n",
    "r7 = Reserves('Regigigas', 3)\n",
    "r8 = Reserves('Unown', 50)\n",
    "\n",
    " \n",
    "reserves = [r1, r2, r3, r4, r5, r6, r7, r8]       #list\n",
    "\n",
    "\n",
    "def e_sort(pok):                         #I define a custom function \n",
    "    return pok.level                     #that will allow me to sort things \n",
    "                                         #acording to my desired criteria \n",
    "\n",
    "s_reserves = sorted(reserves, key=e_sort)\n",
    "\n",
    "print(s_reserves[0:3])               #display"
   ]
  },
  {
   "cell_type": "code",
   "execution_count": 2,
   "metadata": {},
   "outputs": [
    {
     "name": "stdout",
     "output_type": "stream",
     "text": [
      "PARTIES\n",
      "['Charmander', 'Pidgey', 'Sandshrew', 'Rattata', 'Abra', (Unown level:50)]\n",
      "['Charmander', 'Pidgey', 'Sandshrew', 'Rattata', 'Abra', (Magikarp level:32)]\n",
      "['Charmander', 'Pidgey', 'Sandshrew', 'Rattata', 'Abra', (Feebas level:22)]\n"
     ]
    }
   ],
   "source": [
    "class Reserves:\n",
    "    def __init__(self, pokemon, level):\n",
    "        self.pokemon = pokemon\n",
    "        self.level = level\n",
    "\n",
    "\n",
    "    def __repr__(self):\n",
    "        return '({} level:{})'.format(self.pokemon, self.level)\n",
    "    \n",
    "           \n",
    "r1 = Reserves('Onix', 10)\n",
    "r2 = Reserves('Slowpoke', 18)                  #nothing is new in this activity \n",
    "r3 = Reserves('Dialga', 2)                     #all I did is to combine the codes in prevous \n",
    "r4 = Reserves('Magikarp', 32)                  #activties and add the some additional lists\n",
    "r5 = Reserves('Feebas', 22)                    #and put the function append and insert.\n",
    "r6 = Reserves('Swablu', 19)\n",
    "r7 = Reserves('Regigigas', 3)\n",
    "r8 = Reserves('Unown', 50)\n",
    "\n",
    "party1 = ('Charmander')\n",
    "party2 = ('Pidgey')\n",
    "party3 = ('Sandshrew') \n",
    "party4 = ('Rattata')\n",
    "party5 = ('Abra')\n",
    "\n",
    "lvl=[18,11,15,5,14]\n",
    "party  = [party1,party2,party3,party4,party5]    #\n",
    "party_A = [party1,party2,party3,party4,party5]   #additional list \n",
    "party_B= [party1,party2,party3,party4,party5]    #\n",
    "reserves = [r1, r2, r3, r4, r5, r6, r7, r8]\n",
    "\n",
    "\n",
    "def e_sort(pok):\n",
    "    return pok.level\n",
    "\n",
    "\n",
    "s_reserves = sorted(reserves, key=e_sort)  \n",
    "\n",
    "party.append(s_reserves[7])         #this block of code is responsible \n",
    "party_A.insert(5,s_reserves[6])     #for adding new items to a list \n",
    "party_B.append(s_reserves[5])       # I used 2 functions with the same purpose, to manimupalte the list  \n",
    "\n",
    "print('PARTIES')  #\n",
    "print(party)      #\n",
    "print(party_A)    #display \n",
    "print(party_B)    #\n"
   ]
  },
  {
   "cell_type": "code",
   "execution_count": null,
   "metadata": {},
   "outputs": [],
   "source": []
  }
 ],
 "metadata": {
  "kernelspec": {
   "display_name": "Python 3",
   "language": "python",
   "name": "python3"
  },
  "language_info": {
   "codemirror_mode": {
    "name": "ipython",
    "version": 3
   },
   "file_extension": ".py",
   "mimetype": "text/x-python",
   "name": "python",
   "nbconvert_exporter": "python",
   "pygments_lexer": "ipython3",
   "version": "3.8.3"
  }
 },
 "nbformat": 4,
 "nbformat_minor": 4
}
